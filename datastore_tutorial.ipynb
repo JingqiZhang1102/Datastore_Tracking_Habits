{
 "cells": [
  {
   "cell_type": "markdown",
   "metadata": {},
   "source": [
    "Datastore basic tutorial\n",
    "- print works\n",
    "- Warning message: /opt/homebrew/lib/python3.9/site-packages/google/auth/_default.py:76: UserWarning: Your application has authenticated using end user credentials from Google Cloud SDK without a quota project. You might receive a \"quota exceeded\" or \"API not enabled\" error. See the following page for troubleshooting: https://cloud.google.com/docs/authentication/adc-troubleshooting/user-creds. \n",
    "  warnings.warn(_CLOUD_SDK_CREDENTIALS_WARNING)"
   ]
  },
  {
   "cell_type": "code",
   "execution_count": null,
   "metadata": {},
   "outputs": [
    {
     "name": "stderr",
     "output_type": "stream",
     "text": [
      "/opt/homebrew/lib/python3.9/site-packages/google/auth/_default.py:76: UserWarning: Your application has authenticated using end user credentials from Google Cloud SDK without a quota project. You might receive a \"quota exceeded\" or \"API not enabled\" error. See the following page for troubleshooting: https://cloud.google.com/docs/authentication/adc-troubleshooting/user-creds. \n",
      "  warnings.warn(_CLOUD_SDK_CREDENTIALS_WARNING)\n"
     ]
    },
    {
     "name": "stdout",
     "output_type": "stream",
     "text": [
      "Saved sampletask1: Buy milk\n"
     ]
    }
   ],
   "source": [
    "# # Imports the Google Cloud client library\n",
    "# from google.cloud import datastore\n",
    "\n",
    "# # debug OSError: project was not passed\n",
    "# import os\n",
    "# os.environ[\"GCLOUD_PROJECT\"] = \"datastore-tutorial-445100\"\n",
    "\n",
    "# # Instantiates a client\n",
    "# datastore_client = datastore.Client()\n",
    "\n",
    "# # The kind for the new entity\n",
    "# kind = \"Task\"\n",
    "# # The name/ID for the new entity\n",
    "# name = \"sampletask1\"\n",
    "# # The Cloud Datastore key for the new entity\n",
    "# task_key = datastore_client.key(kind, name)\n",
    "\n",
    "# # Prepares the new entity\n",
    "# task = datastore.Entity(key=task_key)\n",
    "# task[\"description\"] = \"Buy milk\"\n",
    "\n",
    "# # Saves the entity\n",
    "# datastore_client.put(task)\n",
    "\n",
    "# print(f\"Saved {task.key.name}: {task['description']}\")"
   ]
  },
  {
   "cell_type": "markdown",
   "metadata": {},
   "source": [
    "to create a new entity, we need\n",
    "- kind: table / collection name\n",
    "- a unique name: could be created by concatenating elements (this will be 1st col)\n",
    "- then with kind and name, we create a key\n",
    "- then we create Entity with the key"
   ]
  },
  {
   "cell_type": "markdown",
   "metadata": {},
   "source": [
    "Note: Use Python 3.9.19 kernel"
   ]
  },
  {
   "cell_type": "code",
   "execution_count": 28,
   "metadata": {},
   "outputs": [],
   "source": [
    "# from flask import Flask, request, jsonify\n",
    "from flask import Flask\n",
    "from google.cloud import datastore # datastore mode\n",
    "from google.appengine.api import wrap_wsgi_app\n",
    "from google.appengine.api import memcache # memcache for efficiency\n",
    "from datetime import datetime"
   ]
  },
  {
   "cell_type": "code",
   "execution_count": 33,
   "metadata": {},
   "outputs": [],
   "source": [
    "app = Flask(__name__)\n",
    "app.wsgi_app = wrap_wsgi_app(app.wsgi_app, use_legacy_context_mode=True, use_deferred=False)"
   ]
  },
  {
   "cell_type": "code",
   "execution_count": 34,
   "metadata": {},
   "outputs": [
    {
     "name": "stderr",
     "output_type": "stream",
     "text": [
      "/opt/homebrew/lib/python3.9/site-packages/google/auth/_default.py:76: UserWarning: Your application has authenticated using end user credentials from Google Cloud SDK without a quota project. You might receive a \"quota exceeded\" or \"API not enabled\" error. See the following page for troubleshooting: https://cloud.google.com/docs/authentication/adc-troubleshooting/user-creds. \n",
      "  warnings.warn(_CLOUD_SDK_CREDENTIALS_WARNING)\n"
     ]
    }
   ],
   "source": [
    "# Instantiates a client\n",
    "datastore_client = datastore.Client()"
   ]
  },
  {
   "cell_type": "code",
   "execution_count": null,
   "metadata": {},
   "outputs": [],
   "source": [
    "# log daily habit into the database\n",
    "\n",
    "@app.route('/log_habit', methods=['POST'])\n",
    "def log_habit():\n",
    "    # with front end, comment out for now\n",
    "    # user_id = request.form.get(\"user_id\")\n",
    "    # habit_id = request.form.get(\"habit_id\")\n",
    "    # today = datetime.now()\n",
    "    \n",
    "    habit_kind = \"HabitLog\"\n",
    "    \n",
    "    \n",
    "    user_id = \"Alice\"\n",
    "    habit_id = \"Exercise\"\n",
    "    today = datetime.now()\n",
    "\n",
    "    # keys for memcache\n",
    "    streak_cache_key = f\"streak_{user_id}_{habit_id}\"\n",
    "    month_cache_key = f\"calendar_{user_id}_{habit_id}_{today.month}_{today.year}\"\n",
    "    print(streak_cache_key)\n",
    "    print(month_cache_key)\n",
    "\n",
    "    # update database\n",
    "    # key = datastore_client.key(kind, name)\n",
    "    log_key = datastore_client.key(habit_kind, f\"{user_id}_{habit_id}_{today}\")\n",
    "    log = datastore.Entity(key=log_key)\n",
    "    log.update({\"user_id\": user_id, \"habit_id\": habit_id, \"last_log_date\": today})\n",
    "    # saves the entity\n",
    "    datastore_client.put(log)\n",
    "\n",
    "    # Update Streak in Memcache\n",
    "    # streak = calculate_streak(user_id, habit_id)\n",
    "    streak = 1\n",
    "    memcache.set(streak_cache_key, streak, time=3600) # save for 1 hr\n",
    "\n",
    "    # Update Logged Days in Memcache\n",
    "    logged_days = memcache.get(month_cache_key) or set()\n",
    "    logged_days.add(today.day)\n",
    "    memcache.set(month_cache_key, logged_days, time=3600)\n",
    "\n",
    "    return jsonify({\"message\": \"Habit logged successfully\", \"streak\": streak})"
   ]
  },
  {
   "cell_type": "code",
   "execution_count": 36,
   "metadata": {},
   "outputs": [
    {
     "name": "stdout",
     "output_type": "stream",
     "text": [
      "streak_Alice_Exercise\n",
      "calendar_Alice_Exercise_12_2024\n"
     ]
    },
    {
     "ename": "RPCFailedError",
     "evalue": "Attempted RPC call without active security ticket",
     "output_type": "error",
     "traceback": [
      "\u001b[0;31m---------------------------------------------------------------------------\u001b[0m",
      "\u001b[0;31mRPCFailedError\u001b[0m                            Traceback (most recent call last)",
      "Cell \u001b[0;32mIn[36], line 1\u001b[0m\n\u001b[0;32m----> 1\u001b[0m \u001b[43mlog_habit\u001b[49m\u001b[43m(\u001b[49m\u001b[43m)\u001b[49m\n",
      "Cell \u001b[0;32mIn[35], line 32\u001b[0m, in \u001b[0;36mlog_habit\u001b[0;34m()\u001b[0m\n\u001b[1;32m     29\u001b[0m \u001b[38;5;66;03m# Update Streak in Memcache\u001b[39;00m\n\u001b[1;32m     30\u001b[0m \u001b[38;5;66;03m# streak = calculate_streak(user_id, habit_id)\u001b[39;00m\n\u001b[1;32m     31\u001b[0m streak \u001b[38;5;241m=\u001b[39m \u001b[38;5;241m1\u001b[39m\n\u001b[0;32m---> 32\u001b[0m \u001b[43mmemcache\u001b[49m\u001b[38;5;241;43m.\u001b[39;49m\u001b[43mset\u001b[49m\u001b[43m(\u001b[49m\u001b[43mstreak_cache_key\u001b[49m\u001b[43m,\u001b[49m\u001b[43m \u001b[49m\u001b[43mstreak\u001b[49m\u001b[43m,\u001b[49m\u001b[43m \u001b[49m\u001b[43mtime\u001b[49m\u001b[38;5;241;43m=\u001b[39;49m\u001b[38;5;241;43m3600\u001b[39;49m\u001b[43m)\u001b[49m \u001b[38;5;66;03m# save for 1 hr\u001b[39;00m\n\u001b[1;32m     34\u001b[0m \u001b[38;5;66;03m# Update Logged Days in Memcache\u001b[39;00m\n\u001b[1;32m     35\u001b[0m logged_days \u001b[38;5;241m=\u001b[39m memcache\u001b[38;5;241m.\u001b[39mget(month_cache_key) \u001b[38;5;129;01mor\u001b[39;00m \u001b[38;5;28mset\u001b[39m()\n",
      "File \u001b[0;32m/opt/homebrew/lib/python3.9/site-packages/google/appengine/api/memcache/__init__.py:942\u001b[0m, in \u001b[0;36mClient.set\u001b[0;34m(self, key, value, time, min_compress_len, namespace)\u001b[0m\n\u001b[1;32m    920\u001b[0m \u001b[38;5;28;01mdef\u001b[39;00m \u001b[38;5;21mset\u001b[39m(\u001b[38;5;28mself\u001b[39m, key, value, time\u001b[38;5;241m=\u001b[39m\u001b[38;5;241m0\u001b[39m, min_compress_len\u001b[38;5;241m=\u001b[39m\u001b[38;5;241m0\u001b[39m, namespace\u001b[38;5;241m=\u001b[39m\u001b[38;5;28;01mNone\u001b[39;00m):\n\u001b[1;32m    921\u001b[0m \u001b[38;5;250m  \u001b[39m\u001b[38;5;124;03m\"\"\"Sets a key's value, regardless of previous contents in cache.\u001b[39;00m\n\u001b[1;32m    922\u001b[0m \n\u001b[1;32m    923\u001b[0m \u001b[38;5;124;03m  Unlike `add()` and `replace()`, this method always sets (or\u001b[39;00m\n\u001b[0;32m   (...)\u001b[0m\n\u001b[1;32m    940\u001b[0m \u001b[38;5;124;03m    `True` if set.  `False` on error.\u001b[39;00m\n\u001b[1;32m    941\u001b[0m \u001b[38;5;124;03m  \"\"\"\u001b[39;00m\n\u001b[0;32m--> 942\u001b[0m   \u001b[38;5;28;01mreturn\u001b[39;00m \u001b[38;5;28;43mself\u001b[39;49m\u001b[38;5;241;43m.\u001b[39;49m\u001b[43m_set_with_policy\u001b[49m\u001b[43m(\u001b[49m\n\u001b[1;32m    943\u001b[0m \u001b[43m      \u001b[49m\u001b[43mMemcacheSetRequest\u001b[49m\u001b[38;5;241;43m.\u001b[39;49m\u001b[43mSET\u001b[49m\u001b[43m,\u001b[49m\u001b[43m \u001b[49m\u001b[43mkey\u001b[49m\u001b[43m,\u001b[49m\u001b[43m \u001b[49m\u001b[43mvalue\u001b[49m\u001b[43m,\u001b[49m\u001b[43m \u001b[49m\u001b[43mtime\u001b[49m\u001b[38;5;241;43m=\u001b[39;49m\u001b[43mtime\u001b[49m\u001b[43m,\u001b[49m\u001b[43m \u001b[49m\u001b[43mnamespace\u001b[49m\u001b[38;5;241;43m=\u001b[39;49m\u001b[43mnamespace\u001b[49m\u001b[43m)\u001b[49m\n",
      "File \u001b[0;32m/opt/homebrew/lib/python3.9/site-packages/google/appengine/api/memcache/__init__.py:1047\u001b[0m, in \u001b[0;36mClient._set_with_policy\u001b[0;34m(self, policy, key, value, time, namespace)\u001b[0m\n\u001b[1;32m   1029\u001b[0m \u001b[38;5;28;01mdef\u001b[39;00m \u001b[38;5;21m_set_with_policy\u001b[39m(\u001b[38;5;28mself\u001b[39m, policy, key, value, time\u001b[38;5;241m=\u001b[39m\u001b[38;5;241m0\u001b[39m, namespace\u001b[38;5;241m=\u001b[39m\u001b[38;5;28;01mNone\u001b[39;00m):\n\u001b[1;32m   1030\u001b[0m \u001b[38;5;250m  \u001b[39m\u001b[38;5;124;03m\"\"\"Sets a single key with a specified policy.\u001b[39;00m\n\u001b[1;32m   1031\u001b[0m \n\u001b[1;32m   1032\u001b[0m \u001b[38;5;124;03m  Helper function for `set()`, `add()`, and `replace()`.\u001b[39;00m\n\u001b[0;32m   (...)\u001b[0m\n\u001b[1;32m   1045\u001b[0m \u001b[38;5;124;03m    failing due to the item not already existing.\u001b[39;00m\n\u001b[1;32m   1046\u001b[0m \u001b[38;5;124;03m  \"\"\"\u001b[39;00m\n\u001b[0;32m-> 1047\u001b[0m   rpc \u001b[38;5;241m=\u001b[39m \u001b[38;5;28;43mself\u001b[39;49m\u001b[38;5;241;43m.\u001b[39;49m\u001b[43m_set_multi_async_with_policy\u001b[49m\u001b[43m(\u001b[49m\u001b[43mpolicy\u001b[49m\u001b[43m,\u001b[49m\u001b[43m \u001b[49m\u001b[43m{\u001b[49m\u001b[43mkey\u001b[49m\u001b[43m:\u001b[49m\u001b[43m \u001b[49m\u001b[43mvalue\u001b[49m\u001b[43m}\u001b[49m\u001b[43m,\u001b[49m\u001b[43m \u001b[49m\u001b[43mtime\u001b[49m\u001b[43m,\u001b[49m\u001b[43m \u001b[49m\u001b[38;5;124;43m'\u001b[39;49m\u001b[38;5;124;43m'\u001b[39;49m\u001b[43m,\u001b[49m\n\u001b[1;32m   1048\u001b[0m \u001b[43m                                          \u001b[49m\u001b[43mnamespace\u001b[49m\u001b[43m)\u001b[49m\n\u001b[1;32m   1049\u001b[0m   status_dict \u001b[38;5;241m=\u001b[39m rpc\u001b[38;5;241m.\u001b[39mget_result()\n\u001b[1;32m   1050\u001b[0m   \u001b[38;5;28;01mif\u001b[39;00m \u001b[38;5;129;01mnot\u001b[39;00m status_dict:\n",
      "File \u001b[0;32m/opt/homebrew/lib/python3.9/site-packages/google/appengine/api/memcache/__init__.py:1159\u001b[0m, in \u001b[0;36mClient._set_multi_async_with_policy\u001b[0;34m(self, policy, mapping, time, key_prefix, namespace, rpc)\u001b[0m\n\u001b[1;32m   1154\u001b[0m       item\u001b[38;5;241m.\u001b[39mfor_cas \u001b[38;5;241m=\u001b[39m \u001b[38;5;28;01mTrue\u001b[39;00m\n\u001b[1;32m   1156\u001b[0m response \u001b[38;5;241m=\u001b[39m MemcacheSetResponse()\n\u001b[0;32m-> 1159\u001b[0m \u001b[38;5;28;01mreturn\u001b[39;00m \u001b[38;5;28;43mself\u001b[39;49m\u001b[38;5;241;43m.\u001b[39;49m\u001b[43m_make_async_call\u001b[49m\u001b[43m(\u001b[49m\u001b[43mrpc\u001b[49m\u001b[43m,\u001b[49m\u001b[43m \u001b[49m\u001b[38;5;124;43m'\u001b[39;49m\u001b[38;5;124;43mSet\u001b[39;49m\u001b[38;5;124;43m'\u001b[39;49m\u001b[43m,\u001b[49m\u001b[43m \u001b[49m\u001b[43mrequest\u001b[49m\u001b[43m,\u001b[49m\u001b[43m \u001b[49m\u001b[43mresponse\u001b[49m\u001b[43m,\u001b[49m\n\u001b[1;32m   1160\u001b[0m \u001b[43m                             \u001b[49m\u001b[38;5;28;43mself\u001b[39;49m\u001b[38;5;241;43m.\u001b[39;49m\u001b[43m__set_with_policy_hook\u001b[49m\u001b[43m,\u001b[49m\u001b[43m \u001b[49m\u001b[43m(\u001b[49m\u001b[43mserver_keys\u001b[49m\u001b[43m,\u001b[49m\n\u001b[1;32m   1161\u001b[0m \u001b[43m                                                           \u001b[49m\u001b[43muser_key\u001b[49m\u001b[43m)\u001b[49m\u001b[43m)\u001b[49m\n",
      "File \u001b[0;32m/opt/homebrew/lib/python3.9/site-packages/google/appengine/api/memcache/__init__.py:456\u001b[0m, in \u001b[0;36mClient._make_async_call\u001b[0;34m(self, rpc, method, request, response, get_result_hook, user_data)\u001b[0m\n\u001b[1;32m    454\u001b[0m   rpc \u001b[38;5;241m=\u001b[39m create_rpc()\n\u001b[1;32m    455\u001b[0m \u001b[38;5;28;01massert\u001b[39;00m rpc\u001b[38;5;241m.\u001b[39mservice \u001b[38;5;241m==\u001b[39m \u001b[38;5;124m'\u001b[39m\u001b[38;5;124mmemcache\u001b[39m\u001b[38;5;124m'\u001b[39m, \u001b[38;5;28mrepr\u001b[39m(rpc\u001b[38;5;241m.\u001b[39mservice)\n\u001b[0;32m--> 456\u001b[0m \u001b[43mrpc\u001b[49m\u001b[38;5;241;43m.\u001b[39;49m\u001b[43mmake_call\u001b[49m\u001b[43m(\u001b[49m\u001b[43mmethod\u001b[49m\u001b[43m,\u001b[49m\u001b[43m \u001b[49m\u001b[43mrequest\u001b[49m\u001b[43m,\u001b[49m\u001b[43m \u001b[49m\u001b[43mresponse\u001b[49m\u001b[43m,\u001b[49m\u001b[43m \u001b[49m\u001b[43mget_result_hook\u001b[49m\u001b[43m,\u001b[49m\u001b[43m \u001b[49m\u001b[43muser_data\u001b[49m\u001b[43m)\u001b[49m\n\u001b[1;32m    457\u001b[0m \u001b[38;5;28;01mreturn\u001b[39;00m rpc\n",
      "File \u001b[0;32m/opt/homebrew/lib/python3.9/site-packages/google/appengine/api/apiproxy_stub_map.py:565\u001b[0m, in \u001b[0;36mUserRPC.make_call\u001b[0;34m(self, method, request, response, get_result_hook, user_data)\u001b[0m\n\u001b[1;32m    560\u001b[0m \u001b[38;5;28mself\u001b[39m\u001b[38;5;241m.\u001b[39m__user_data \u001b[38;5;241m=\u001b[39m user_data\n\u001b[1;32m    562\u001b[0m \u001b[38;5;28mself\u001b[39m\u001b[38;5;241m.\u001b[39m__stubmap\u001b[38;5;241m.\u001b[39mGetPreCallHooks()\u001b[38;5;241m.\u001b[39mCall(\n\u001b[1;32m    563\u001b[0m     \u001b[38;5;28mself\u001b[39m\u001b[38;5;241m.\u001b[39m__service, method, request, response, \u001b[38;5;28mself\u001b[39m\u001b[38;5;241m.\u001b[39m__rpc)\n\u001b[0;32m--> 565\u001b[0m \u001b[38;5;28;43mself\u001b[39;49m\u001b[38;5;241;43m.\u001b[39;49m\u001b[43m__rpc\u001b[49m\u001b[38;5;241;43m.\u001b[39;49m\u001b[43mMakeCall\u001b[49m\u001b[43m(\u001b[49m\u001b[38;5;28;43mself\u001b[39;49m\u001b[38;5;241;43m.\u001b[39;49m\u001b[43m__service\u001b[49m\u001b[43m,\u001b[49m\u001b[43m \u001b[49m\u001b[43mmethod\u001b[49m\u001b[43m,\u001b[49m\u001b[43m \u001b[49m\u001b[43mrequest\u001b[49m\u001b[43m,\u001b[49m\u001b[43m \u001b[49m\u001b[43mresponse\u001b[49m\u001b[43m)\u001b[49m\n",
      "File \u001b[0;32m/opt/homebrew/lib/python3.9/site-packages/google/appengine/api/apiproxy_rpc.py:133\u001b[0m, in \u001b[0;36mRPC.MakeCall\u001b[0;34m(self, package, call, request, response, callback, deadline)\u001b[0m\n\u001b[1;32m    130\u001b[0m \u001b[38;5;28;01massert\u001b[39;00m \u001b[38;5;28mself\u001b[39m\u001b[38;5;241m.\u001b[39m_state \u001b[38;5;241m==\u001b[39m RPC\u001b[38;5;241m.\u001b[39mIDLE, (\u001b[38;5;124m'\u001b[39m\u001b[38;5;124mRPC for \u001b[39m\u001b[38;5;132;01m%s\u001b[39;00m\u001b[38;5;124m.\u001b[39m\u001b[38;5;132;01m%s\u001b[39;00m\u001b[38;5;124m has already been started\u001b[39m\u001b[38;5;124m'\u001b[39m \u001b[38;5;241m%\u001b[39m\n\u001b[1;32m    131\u001b[0m                                  (\u001b[38;5;28mself\u001b[39m\u001b[38;5;241m.\u001b[39mpackage, \u001b[38;5;28mself\u001b[39m\u001b[38;5;241m.\u001b[39mcall))\n\u001b[1;32m    132\u001b[0m \u001b[38;5;28;01massert\u001b[39;00m \u001b[38;5;28mself\u001b[39m\u001b[38;5;241m.\u001b[39mcallback \u001b[38;5;129;01mis\u001b[39;00m \u001b[38;5;28;01mNone\u001b[39;00m \u001b[38;5;129;01mor\u001b[39;00m \u001b[38;5;28mcallable\u001b[39m(\u001b[38;5;28mself\u001b[39m\u001b[38;5;241m.\u001b[39mcallback)\n\u001b[0;32m--> 133\u001b[0m \u001b[38;5;28;43mself\u001b[39;49m\u001b[38;5;241;43m.\u001b[39;49m\u001b[43m_MakeCallImpl\u001b[49m\u001b[43m(\u001b[49m\u001b[43m)\u001b[49m\n",
      "File \u001b[0;32m/opt/homebrew/lib/python3.9/site-packages/google/appengine/runtime/default_api_stub.py:193\u001b[0m, in \u001b[0;36mDefaultApiRPC._MakeCallImpl\u001b[0;34m(self)\u001b[0m\n\u001b[1;32m    189\u001b[0m     ticket \u001b[38;5;241m=\u001b[39m context\u001b[38;5;241m.\u001b[39mgae_headers\u001b[38;5;241m.\u001b[39mAPI_TICKET\u001b[38;5;241m.\u001b[39mget(\n\u001b[1;32m    190\u001b[0m         context\u001b[38;5;241m.\u001b[39mgae_headers\u001b[38;5;241m.\u001b[39mDEV_REQUEST_ID\u001b[38;5;241m.\u001b[39mget(\u001b[38;5;28;01mNone\u001b[39;00m))\n\u001b[1;32m    192\u001b[0m \u001b[38;5;28;01mif\u001b[39;00m \u001b[38;5;129;01mnot\u001b[39;00m ticket:\n\u001b[0;32m--> 193\u001b[0m   \u001b[38;5;28;01mraise\u001b[39;00m apiproxy_errors\u001b[38;5;241m.\u001b[39mRPCFailedError(\n\u001b[1;32m    194\u001b[0m       \u001b[38;5;124m'\u001b[39m\u001b[38;5;124mAttempted RPC call without active security ticket\u001b[39m\u001b[38;5;124m'\u001b[39m)\n\u001b[1;32m    196\u001b[0m request \u001b[38;5;241m=\u001b[39m remote_api_pb2\u001b[38;5;241m.\u001b[39mRequest(\n\u001b[1;32m    197\u001b[0m     service_name\u001b[38;5;241m=\u001b[39m\u001b[38;5;28mself\u001b[39m\u001b[38;5;241m.\u001b[39mpackage,\n\u001b[1;32m    198\u001b[0m     method\u001b[38;5;241m=\u001b[39m\u001b[38;5;28mself\u001b[39m\u001b[38;5;241m.\u001b[39mcall,\n\u001b[1;32m    199\u001b[0m     request_id\u001b[38;5;241m=\u001b[39mticket,\n\u001b[1;32m    200\u001b[0m     request\u001b[38;5;241m=\u001b[39m\u001b[38;5;28mself\u001b[39m\u001b[38;5;241m.\u001b[39mrequest\u001b[38;5;241m.\u001b[39mSerializeToString())\n\u001b[1;32m    202\u001b[0m deadline \u001b[38;5;241m=\u001b[39m \u001b[38;5;28mself\u001b[39m\u001b[38;5;241m.\u001b[39mdeadline \u001b[38;5;129;01mor\u001b[39;00m DEFAULT_TIMEOUT\n",
      "\u001b[0;31mRPCFailedError\u001b[0m: Attempted RPC call without active security ticket"
     ]
    }
   ],
   "source": [
    "log_habit()"
   ]
  },
  {
   "cell_type": "code",
   "execution_count": null,
   "metadata": {},
   "outputs": [],
   "source": []
  }
 ],
 "metadata": {
  "kernelspec": {
   "display_name": "Python 3",
   "language": "python",
   "name": "python3"
  },
  "language_info": {
   "codemirror_mode": {
    "name": "ipython",
    "version": 3
   },
   "file_extension": ".py",
   "mimetype": "text/x-python",
   "name": "python",
   "nbconvert_exporter": "python",
   "pygments_lexer": "ipython3",
   "version": "3.9.19"
  }
 },
 "nbformat": 4,
 "nbformat_minor": 2
}
